{
 "cells": [
  {
   "cell_type": "code",
   "execution_count": 162,
   "metadata": {},
   "outputs": [],
   "source": [
    "import numpy as np\n",
    "from sklearn.linear_model import LinearRegression\n",
    "from sklearn.model_selection import train_test_split\n",
    "import matplotlib.pyplot as plt\n",
    "import pandas as pd \n"
   ]
  },
  {
   "cell_type": "code",
   "execution_count": null,
   "metadata": {},
   "outputs": [],
   "source": [
    "\n",
    "#data loading\n",
    "df = pd.read_csv('data/carData.csv')\n",
    "filtered_df = df[(df['Year'] > (df['Year'].max() - 7)) & (df['Kms_Driven'] <= 100000) & (df['Transmission'] == 'Manual')]\n",
    "\n",
    "\n",
    "Year = df['Year'].values.reshape(-1,1)\n",
    "Selling_Price = df['Selling_Price'] * 1000\n",
    "Transmission = df['Transmission'].map({'Manual': 0, 'Automatic': 1})\n",
    "Kms_Driven = df['Kms_Driven']\n",
    "Present_Price = df['Present_Price'] * 1000\n",
    "Fuel_Type = df['Fuel_Type'].map({'Petrol' :0, 'Diesel' :1, 'CNG' : 2})\n",
    "Seller_Type = df['Seller_Type'].map({'Dealer':0 , 'Individual' : 1})\n",
    "Owner = df['Owner']\n",
    "\n",
    "\n"
   ]
  },
  {
   "cell_type": "code",
   "execution_count": 168,
   "metadata": {},
   "outputs": [
    {
     "name": "stdout",
     "output_type": "stream",
     "text": [
      "(240, 6)\n",
      "(240,)\n",
      "(61, 6)\n",
      "(61,)\n"
     ]
    }
   ],
   "source": [
    "\n",
    "#split dataset on 80% data for train and 20% data for test \n",
    "\n",
    "X_train, X_test, y_train, y_test = train_test_split(np.column_stack((Year, Transmission, Kms_Driven, Present_Price, Fuel_Type, Seller_Type)), Selling_Price, test_size=0.2, random_state=0)\n",
    "print(X_train.shape)\n",
    "print(y_train.shape)\n",
    "print(X_test.shape)\n",
    "print(y_test.shape)\n",
    "\n"
   ]
  },
  {
   "cell_type": "code",
   "execution_count": 169,
   "metadata": {},
   "outputs": [
    {
     "name": "stdout",
     "output_type": "stream",
     "text": [
      "score 0.9174279681949838\n",
      " prediction [ 7197.2242917   -525.61983401  4318.513199    8710.53116161\n",
      " 14150.76596397  4948.64192693  3513.76580622  1415.46348703\n",
      "  5322.60934292  4639.20173572  2227.40175825  1591.67644213\n",
      "  5157.12441816  7596.34035517  8309.04281724 14159.05506558\n",
      "  7378.25920053  4285.97948476  -562.48338029  2370.41079787\n",
      "  4937.92803848  4843.3445734   6430.75072555  8161.36242182\n",
      " -2079.72341247  1925.43064959  -927.72010153   758.53504943\n",
      "   -87.02797356  7061.03211469  4051.69015327  7082.1343259\n",
      "   659.11491949  7612.16288651  3492.83398149  1784.35489604\n",
      "  5640.62179117  6644.57432989 -1889.91883098  8775.96955093\n",
      "  8934.44909426 19805.16592918  4431.20129552  4876.03894446\n",
      "  6301.14191718  9566.77619686    46.87885432  1656.35470102\n",
      "  5161.26775578  7010.7581079   8100.2379666   4242.44917352\n",
      "  4911.00127305 20178.23737571  1732.43776052  1268.20485798\n",
      "   214.77941757  1961.19660792  3409.04210588  1773.1095891\n",
      "  3440.36175188] \n"
     ]
    }
   ],
   "source": [
    "#model creation\n",
    "model = LinearRegression()\n",
    "\n",
    "model.fit(X_train,y_train)\n",
    "\n",
    "score = model.score(X_test,y_test)\n",
    "print('score '+str(score))\n",
    "\n",
    "prediction = model.predict(X_test)\n",
    "print(f' prediction {prediction} ' )\n",
    "\n"
   ]
  },
  {
   "cell_type": "code",
   "execution_count": 166,
   "metadata": {},
   "outputs": [],
   "source": [
    "#we sort the datas to have a right line instead of several peaks\n",
    "# sorted_indices = np.argsort(X_test.flatten())  \n",
    "# X_test_sorted = X_test[sorted_indices]\n",
    "# prediction_sorted = prediction[sorted_indices]\n",
    "\n",
    "#display with my plot lib\n",
    "\n",
    "# plt.scatter(X_test, y_test, label='Données réelles', color='b')  # Points réels\n",
    "# plt.plot(X_test, prediction, color='r', label='Régression linéaire')  # Droite de régression\n",
    "# plt.xlabel('Année')\n",
    "# plt.ylabel('Prix de vente')\n",
    "# plt.legend()\n",
    "# plt.show()\n"
   ]
  },
  {
   "cell_type": "code",
   "execution_count": null,
   "metadata": {},
   "outputs": [
    {
     "name": "stdout",
     "output_type": "stream",
     "text": [
      "Meilleure combinaison : ('Year', 'Transmission', 'Kms_Driven', 'Present_Price', 'Fuel_Type', 'Seller_Type') avec un score R² de 0.9174279681949838\n"
     ]
    }
   ],
   "source": [
    "\n",
    "def generate_combinations(input_list):\n",
    "    import itertools\n",
    "    all_combinations = []\n",
    "\n",
    "    # generate all generation with size 2 , then 3 ect...\n",
    "    for i in range(2, len(input_list) + 1):\n",
    "        combinations = list(itertools.combinations(input_list, i))\n",
    "        all_combinations.extend(combinations)\n",
    "    \n",
    "    return all_combinations\n",
    "\n",
    "columns = [Year,Transmission,Kms_Driven,Present_Price,Fuel_Type,Seller_Type,Owner]\n",
    "strColumns = ['Year','Transmission','Kms_Driven','Present_Price','Fuel_Type','Seller_Type','Owner']\n",
    "target = Selling_Price\n",
    "\n",
    "def FindBestFeatureCombination(allFeatures ,y,strFeatures):\n",
    "    best_score = float(0)\n",
    "    best_combination = []\n",
    "    allCombination= generate_combinations(allFeatures)\n",
    "    strCombination= generate_combinations(strFeatures)\n",
    "    strIndex = 0\n",
    "    for combination in allCombination:\n",
    "\n",
    "        # divide dataset between test(80%) and train(20%)\n",
    "        X_train, X_test, y_train, y_test = train_test_split(np.column_stack((combination)), y, test_size=0.2, random_state=0)\n",
    "       \n",
    "        model = LinearRegression()\n",
    "        model.fit(X_train, y_train)\n",
    "\n",
    "        score = model.score(X_test, y_test)\n",
    "        # if the score is better , we keep it \n",
    "        if score > best_score:\n",
    "            best_score = score\n",
    "            best_combination = strCombination[strIndex]\n",
    "        strIndex +=1\n",
    "\n",
    "    # print the best combination with the best score \n",
    "    print(f\"Meilleure combinaison : {best_combination} avec un score R² de {best_score}\")\n",
    "\n",
    "FindBestFeatureCombination(columns,target,strColumns)\n",
    "# generate_combinations(columns)\n",
    "\n",
    "\n"
   ]
  }
 ],
 "metadata": {
  "kernelspec": {
   "display_name": "Python 3",
   "language": "python",
   "name": "python3"
  },
  "language_info": {
   "codemirror_mode": {
    "name": "ipython",
    "version": 3
   },
   "file_extension": ".py",
   "mimetype": "text/x-python",
   "name": "python",
   "nbconvert_exporter": "python",
   "pygments_lexer": "ipython3",
   "version": "3.11.9"
  }
 },
 "nbformat": 4,
 "nbformat_minor": 2
}
